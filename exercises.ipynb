{
 "cells": [
  {
   "attachments": {},
   "cell_type": "markdown",
   "metadata": {},
   "source": [
    "# BDD Exercises"
   ]
  },
  {
   "attachments": {},
   "cell_type": "markdown",
   "metadata": {},
   "source": [
    "## Installing and import dependencies"
   ]
  },
  {
   "cell_type": "code",
   "execution_count": null,
   "metadata": {},
   "outputs": [],
   "source": [
    "! pip install matplotlib\n",
    "! pip install networkx\n",
    "! pip install omega"
   ]
  },
  {
   "cell_type": "code",
   "execution_count": 2,
   "metadata": {},
   "outputs": [],
   "source": [
    "from omega.symbolic.fol import Context\n",
    "import networkx as nx"
   ]
  },
  {
   "attachments": {},
   "cell_type": "markdown",
   "metadata": {},
   "source": [
    "## Tea party\n",
    "\n",
    "You want to invite your 5 closest friends to a tea party:\n",
    "Alex, Bea, Casper, Daniel, and Emily. However, you have to take into account\n",
    "certain conditions the guests must meet. Because you are prepared, you also\n",
    "formulated these conditions. Let a, b, c, d, e Boolean variables signify if a certain\n",
    "person attends the party or not. The conditions are as follows:\n",
    "\n",
    "- C1: Alex and Bea are dating, they only come together.\n",
    "- C2: Casper and Bea used to date. So if Bea is present, Casper does not attend.\n",
    "- C3: If Alex attends, he wants to make sure that Daniel or Emily is present.\n",
    "- C4: You agreed with Casper that he attends if and only if Daniel and Emily both attend.\n",
    "\n",
    "What are the possible guest combinations?\n",
    "\n",
    "IBEN input:\n",
    "```\n",
    "vars a b c d e\n",
    "show ( a = b ) & (b => !c) & ( a => ( d | e ) ) & ( c = (d & e) )\n",
    "```"
   ]
  },
  {
   "cell_type": "code",
   "execution_count": null,
   "metadata": {},
   "outputs": [],
   "source": [
    "ctx = Context()\n",
    "ctx.declare(a='bool',b='bool',c='bool',d='bool',e='bool')\n",
    "\n",
    "C1 = ctx.to_bdd(\"a = b\")\n",
    "C2 = ctx.to_bdd(\"b => ~c\")\n",
    "C3 = ctx.to_bdd(\"a => (d | e)\")\n",
    "C4 = ctx.to_bdd(\"c = (d & e)\")\n",
    "\n",
    "R = C1 & C2 & C3 & C4\n",
    "\n",
    "print(\"Possible guest combinations:\")\n",
    "for d in ctx.pick_iter(R):\n",
    "    print([ person for person,attends in d.items() if attends ])"
   ]
  },
  {
   "attachments": {},
   "cell_type": "markdown",
   "metadata": {},
   "source": [
    "## Magic square\n",
    "\n",
    "Find **_all_** possible ways of filling in an *n x n* table so that:\n",
    "- all values are a single-digit number\n",
    "- the sum of each row, column, and the main diagonals are the same number."
   ]
  },
  {
   "cell_type": "code",
   "execution_count": null,
   "metadata": {},
   "outputs": [],
   "source": [
    "SIZE = 3\n",
    "SUM = 12 # use None for no restriction\n",
    "\n",
    "# create the omega context and declare variables\n",
    "ctx = Context()\n",
    "ctx.declare(**{f'r{i}c{j}': (0,10) for i in range(SIZE) for j in range(SIZE) })\n",
    "ctx.declare(**{f'sum': (0,SIZE*10) })\n",
    "\n",
    "# ensure valid values in cells\n",
    "bdd = ctx.to_bdd('TRUE')\n",
    "for i in range(SIZE):\n",
    "    for j in range(SIZE):\n",
    "        bdd &= ctx.to_bdd(f'r{i}c{j} < 10')\n",
    "\n",
    "# restrict the sum\n",
    "if SUM is not None:\n",
    "    bdd &= ctx.to_bdd(f'sum = {SUM}')\n",
    "\n",
    "# rows have the same value\n",
    "for i in range(SIZE):\n",
    "    bdd &= ctx.to_bdd('sum = ' + '+'.join([ f'r{i}c{j}' for j in range(SIZE) ]))\n",
    "\n",
    "# columns have the same value\n",
    "for j in range(SIZE):\n",
    "    bdd &= ctx.to_bdd('sum = ' + '+'.join([ f'r{i}c{j}' for i in range(SIZE) ]))\n",
    "\n",
    "# diagonals have the same value\n",
    "bdd &= ctx.to_bdd('sum = ' + '+'.join([ f'r{i}c{j}' for i,j in zip(range(SIZE),range(SIZE)) ]))\n",
    "bdd &= ctx.to_bdd('sum = ' + '+'.join([ f'r{i}c{j}' for i,j in zip(range(SIZE),reversed(range(SIZE))) ]))\n",
    "\n",
    "# draw magic squares\n",
    "def draw_square(d):\n",
    "    print(f\"SUM={d['sum']}\")\n",
    "    for i in range(SIZE):\n",
    "        for j in range(SIZE):\n",
    "            print(d[f'r{i}c{j}'],end='')\n",
    "        print()\n",
    "\n",
    "print('TOTAL NUMBER OF SOLUTIONS:',ctx.count(bdd))\n",
    "for d in ctx.pick_iter(bdd):\n",
    "    draw_square(d)\n",
    "    print()"
   ]
  },
  {
   "attachments": {},
   "cell_type": "markdown",
   "metadata": {},
   "source": [
    "## Quantifiers\n",
    "\n",
    "BDDs support both universal and existential quantifiers.\n",
    "Given _a_, _b_, and _x_ 8-bit values, we can easily check the equivalence of the following expressions:\n",
    "- a >= b\n",
    "- \\exists x: a=b+x\n",
    "- \\forall x: x>0 => a+x!=b"
   ]
  },
  {
   "cell_type": "code",
   "execution_count": 14,
   "metadata": {},
   "outputs": [],
   "source": [
    "ctx = Context()\n",
    "ctx.declare(a=(0,127),b=(0,127),x=(0,127))\n",
    "\n",
    "bdd_1 = ctx.to_bdd('a >= b')\n",
    "bdd_2 = ctx.exist(['x'],ctx.to_bdd('a = b + x'))\n",
    "bdd_3 = ctx.forall(['x'],ctx.to_bdd('x != 0 => a + x != b'))\n",
    "\n",
    "assert bdd_1 == bdd_2\n",
    "assert bdd_1 == bdd_3"
   ]
  },
  {
   "attachments": {},
   "cell_type": "markdown",
   "metadata": {},
   "source": [
    "## Reachability in directed graphs\n",
    "\n",
    "### Part 1\n",
    "\n",
    "Given a set of directed edges, collect all *(u,v)* node pairs as a BDD where there is a directed path between *u* and *v*. "
   ]
  },
  {
   "cell_type": "code",
   "execution_count": null,
   "metadata": {},
   "outputs": [],
   "source": [
    "# First we create a random graph. \n",
    "# The seed parameter makes sure, \n",
    "# that we can generate the same graph multiple times.\n",
    "\n",
    "G = nx.erdos_renyi_graph(10,0.15,seed=5555,directed=True)\n",
    "nx.draw_networkx(G, arrows=True)"
   ]
  },
  {
   "cell_type": "code",
   "execution_count": null,
   "metadata": {},
   "outputs": [],
   "source": [
    "# create an omega context\n",
    "ctx = Context()\n",
    "NodeIdInterval = (0,len(G.nodes)-1)\n",
    "ctx.declare(u=NodeIdInterval,v=NodeIdInterval,w=NodeIdInterval)\n",
    "\n",
    "# Each node x has a path to itself\n",
    "HasPath = ctx.to_bdd('FALSE')\n",
    "for x in G.nodes:\n",
    "    HasPath |= ctx.to_bdd(f'u={x} & v={x}')\n",
    "\n",
    "# If there is a direct edge between u and v, then u has a path to v.\n",
    "for src,dst in G.edges:\n",
    "    HasPath |= ctx.to_bdd(f'u={src} & v={dst}')\n",
    "\n",
    "# HasPath(u,w) and HasPath(w,v) => HasPath(u,v)\n",
    "# Repeate the steps until we reach the minimal fixed-point. \n",
    "while True:\n",
    "    print('Pairs found:',ctx.count(HasPath))\n",
    "    FirstPart = ctx.let({'v':'w'},HasPath)\n",
    "    SecondPart = ctx.let({'u':'w'},HasPath)\n",
    "    NewHasPath = FirstPart & SecondPart\n",
    "    NewHasPath = ctx.exist(['w'],NewHasPath)\n",
    "    if HasPath==NewHasPath: break\n",
    "    HasPath = NewHasPath \n",
    "\n",
    "print('Total number of (u,v) pairs:',ctx.count(HasPath))"
   ]
  },
  {
   "cell_type": "code",
   "execution_count": null,
   "metadata": {},
   "outputs": [],
   "source": [
    "# a quick test\n",
    "for u in G.nodes:\n",
    "    for v in G.nodes:\n",
    "        assert (ctx.let({'u':u,'v':v},HasPath)==ctx.true) == nx.has_path(G,u,v)"
   ]
  },
  {
   "attachments": {},
   "cell_type": "markdown",
   "metadata": {},
   "source": [
    "### Part 2\n",
    "\n",
    "Using the previously created *HasPath* BDD, provide all *u* nodes that can reach every other node.\n"
   ]
  },
  {
   "cell_type": "code",
   "execution_count": null,
   "metadata": {},
   "outputs": [],
   "source": [
    "# \\forall v: ValidNodeId(v) => HasPath(u,v) \n",
    "LuckyNodes = ctx.forall(['v'], ~ctx.to_bdd(f'v<{len(G.nodes)}') | HasPath )\n",
    "print('Number of dominating nodes:',ctx.count(LuckyNodes))\n",
    "print(sorted([ d['u'] for d in ctx.pick_iter(LuckyNodes) ]))"
   ]
  },
  {
   "cell_type": "code",
   "execution_count": null,
   "metadata": {},
   "outputs": [],
   "source": [
    "# a quick test\n",
    "bdd_answer = sorted([ d['u'] for d in ctx.pick_iter(LuckyNodes) ])\n",
    "nx_answer = [ u for u in G.nodes if all( nx.has_path(G,u,v) for v in G.nodes ) ]\n",
    "assert bdd_answer == nx_answer"
   ]
  }
 ],
 "metadata": {
  "kernelspec": {
   "display_name": ".venv",
   "language": "python",
   "name": "python3"
  },
  "language_info": {
   "codemirror_mode": {
    "name": "ipython",
    "version": 3
   },
   "file_extension": ".py",
   "mimetype": "text/x-python",
   "name": "python",
   "nbconvert_exporter": "python",
   "pygments_lexer": "ipython3",
   "version": "3.12.3"
  },
  "orig_nbformat": 4
 },
 "nbformat": 4,
 "nbformat_minor": 2
}
